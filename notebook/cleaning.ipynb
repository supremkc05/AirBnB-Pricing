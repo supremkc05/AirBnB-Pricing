{
 "cells": [
  {
   "cell_type": "code",
   "execution_count": 61,
   "id": "59740275",
   "metadata": {},
   "outputs": [],
   "source": [
    "import pandas as pd\n",
    "import numpy as np\n",
    "import matplotlib.pyplot as plt\n",
    "import seaborn as sns\n",
    "import warnings\n",
    "warnings.filterwarnings('ignore')"
   ]
  },
  {
   "cell_type": "code",
   "execution_count": 62,
   "id": "2d8a4178",
   "metadata": {},
   "outputs": [],
   "source": [
    "df = pd.read_csv('../data/airbnb.csv')"
   ]
  },
  {
   "cell_type": "code",
   "execution_count": 63,
   "id": "aa67d7b0",
   "metadata": {},
   "outputs": [
    {
     "data": {
      "text/html": [
       "<div>\n",
       "<style scoped>\n",
       "    .dataframe tbody tr th:only-of-type {\n",
       "        vertical-align: middle;\n",
       "    }\n",
       "\n",
       "    .dataframe tbody tr th {\n",
       "        vertical-align: top;\n",
       "    }\n",
       "\n",
       "    .dataframe thead th {\n",
       "        text-align: right;\n",
       "    }\n",
       "</style>\n",
       "<table border=\"1\" class=\"dataframe\">\n",
       "  <thead>\n",
       "    <tr style=\"text-align: right;\">\n",
       "      <th></th>\n",
       "      <th>id</th>\n",
       "      <th>name</th>\n",
       "      <th>host_id</th>\n",
       "      <th>host_name</th>\n",
       "      <th>neighbourhood_group</th>\n",
       "      <th>neighbourhood</th>\n",
       "      <th>latitude</th>\n",
       "      <th>longitude</th>\n",
       "      <th>room_type</th>\n",
       "      <th>price</th>\n",
       "      <th>minimum_nights</th>\n",
       "      <th>number_of_reviews</th>\n",
       "      <th>last_review</th>\n",
       "      <th>reviews_per_month</th>\n",
       "      <th>calculated_host_listings_count</th>\n",
       "      <th>availability_365</th>\n",
       "      <th>number_of_reviews_ltm</th>\n",
       "      <th>license</th>\n",
       "    </tr>\n",
       "  </thead>\n",
       "  <tbody>\n",
       "    <tr>\n",
       "      <th>0</th>\n",
       "      <td>27886.0</td>\n",
       "      <td>Romantic, stylish B&amp;B houseboat in canal district</td>\n",
       "      <td>97647</td>\n",
       "      <td>Flip</td>\n",
       "      <td>NaN</td>\n",
       "      <td>Centrum-West</td>\n",
       "      <td>52.38761</td>\n",
       "      <td>4.89188</td>\n",
       "      <td>Private room</td>\n",
       "      <td>132.0</td>\n",
       "      <td>3</td>\n",
       "      <td>302</td>\n",
       "      <td>6/11/2025</td>\n",
       "      <td>1.85</td>\n",
       "      <td>1</td>\n",
       "      <td>53</td>\n",
       "      <td>28</td>\n",
       "      <td>0363 974D 4986 7411 88D8</td>\n",
       "    </tr>\n",
       "    <tr>\n",
       "      <th>1</th>\n",
       "      <td>28871.0</td>\n",
       "      <td>Comfortable double room</td>\n",
       "      <td>124245</td>\n",
       "      <td>Edwin</td>\n",
       "      <td>NaN</td>\n",
       "      <td>Centrum-West</td>\n",
       "      <td>52.36775</td>\n",
       "      <td>4.89092</td>\n",
       "      <td>Private room</td>\n",
       "      <td>78.0</td>\n",
       "      <td>2</td>\n",
       "      <td>710</td>\n",
       "      <td>6/16/2025</td>\n",
       "      <td>3.93</td>\n",
       "      <td>2</td>\n",
       "      <td>130</td>\n",
       "      <td>93</td>\n",
       "      <td>0363 607B EA74 0BD8 2F6F</td>\n",
       "    </tr>\n",
       "    <tr>\n",
       "      <th>2</th>\n",
       "      <td>29051.0</td>\n",
       "      <td>Comfortable single / double room</td>\n",
       "      <td>124245</td>\n",
       "      <td>Edwin</td>\n",
       "      <td>NaN</td>\n",
       "      <td>Centrum-Oost</td>\n",
       "      <td>52.36584</td>\n",
       "      <td>4.89111</td>\n",
       "      <td>Private room</td>\n",
       "      <td>70.0</td>\n",
       "      <td>2</td>\n",
       "      <td>822</td>\n",
       "      <td>6/14/2025</td>\n",
       "      <td>4.74</td>\n",
       "      <td>2</td>\n",
       "      <td>121</td>\n",
       "      <td>86</td>\n",
       "      <td>0363 607B EA74 0BD8 2F6F</td>\n",
       "    </tr>\n",
       "    <tr>\n",
       "      <th>3</th>\n",
       "      <td>44391.0</td>\n",
       "      <td>Quiet 2-bedroom Amsterdam city centre apartment</td>\n",
       "      <td>194779</td>\n",
       "      <td>Jan</td>\n",
       "      <td>NaN</td>\n",
       "      <td>Centrum-Oost</td>\n",
       "      <td>52.37168</td>\n",
       "      <td>4.91471</td>\n",
       "      <td>Entire home/apt</td>\n",
       "      <td>NaN</td>\n",
       "      <td>3</td>\n",
       "      <td>42</td>\n",
       "      <td>8/20/2022</td>\n",
       "      <td>0.23</td>\n",
       "      <td>1</td>\n",
       "      <td>0</td>\n",
       "      <td>0</td>\n",
       "      <td>0363 E76E F06A C1DD 172C</td>\n",
       "    </tr>\n",
       "    <tr>\n",
       "      <th>4</th>\n",
       "      <td>47061.0</td>\n",
       "      <td>Charming apartment in old centre</td>\n",
       "      <td>211696</td>\n",
       "      <td>Ivar</td>\n",
       "      <td>NaN</td>\n",
       "      <td>De Baarsjes - Oud-West</td>\n",
       "      <td>52.36786</td>\n",
       "      <td>4.87458</td>\n",
       "      <td>Entire home/apt</td>\n",
       "      <td>120.0</td>\n",
       "      <td>2</td>\n",
       "      <td>203</td>\n",
       "      <td>5/29/2025</td>\n",
       "      <td>1.13</td>\n",
       "      <td>1</td>\n",
       "      <td>66</td>\n",
       "      <td>5</td>\n",
       "      <td>0363 1266 8C04 4133 E6AC</td>\n",
       "    </tr>\n",
       "  </tbody>\n",
       "</table>\n",
       "</div>"
      ],
      "text/plain": [
       "        id                                               name  host_id  \\\n",
       "0  27886.0  Romantic, stylish B&B houseboat in canal district    97647   \n",
       "1  28871.0                            Comfortable double room   124245   \n",
       "2  29051.0                   Comfortable single / double room   124245   \n",
       "3  44391.0    Quiet 2-bedroom Amsterdam city centre apartment   194779   \n",
       "4  47061.0                   Charming apartment in old centre   211696   \n",
       "\n",
       "  host_name  neighbourhood_group           neighbourhood  latitude  longitude  \\\n",
       "0      Flip                  NaN            Centrum-West  52.38761    4.89188   \n",
       "1     Edwin                  NaN            Centrum-West  52.36775    4.89092   \n",
       "2     Edwin                  NaN            Centrum-Oost  52.36584    4.89111   \n",
       "3       Jan                  NaN            Centrum-Oost  52.37168    4.91471   \n",
       "4      Ivar                  NaN  De Baarsjes - Oud-West  52.36786    4.87458   \n",
       "\n",
       "         room_type  price  minimum_nights  number_of_reviews last_review  \\\n",
       "0     Private room  132.0               3                302   6/11/2025   \n",
       "1     Private room   78.0               2                710   6/16/2025   \n",
       "2     Private room   70.0               2                822   6/14/2025   \n",
       "3  Entire home/apt    NaN               3                 42   8/20/2022   \n",
       "4  Entire home/apt  120.0               2                203   5/29/2025   \n",
       "\n",
       "   reviews_per_month  calculated_host_listings_count  availability_365  \\\n",
       "0               1.85                               1                53   \n",
       "1               3.93                               2               130   \n",
       "2               4.74                               2               121   \n",
       "3               0.23                               1                 0   \n",
       "4               1.13                               1                66   \n",
       "\n",
       "   number_of_reviews_ltm                   license  \n",
       "0                     28  0363 974D 4986 7411 88D8  \n",
       "1                     93  0363 607B EA74 0BD8 2F6F  \n",
       "2                     86  0363 607B EA74 0BD8 2F6F  \n",
       "3                      0  0363 E76E F06A C1DD 172C  \n",
       "4                      5  0363 1266 8C04 4133 E6AC  "
      ]
     },
     "execution_count": 63,
     "metadata": {},
     "output_type": "execute_result"
    }
   ],
   "source": [
    "df.head()"
   ]
  },
  {
   "cell_type": "code",
   "execution_count": 64,
   "id": "83c79f31",
   "metadata": {},
   "outputs": [
    {
     "name": "stdout",
     "output_type": "stream",
     "text": [
      "<class 'pandas.core.frame.DataFrame'>\n",
      "RangeIndex: 10168 entries, 0 to 10167\n",
      "Data columns (total 18 columns):\n",
      " #   Column                          Non-Null Count  Dtype  \n",
      "---  ------                          --------------  -----  \n",
      " 0   id                              10168 non-null  float64\n",
      " 1   name                            10168 non-null  object \n",
      " 2   host_id                         10168 non-null  int64  \n",
      " 3   host_name                       10164 non-null  object \n",
      " 4   neighbourhood_group             0 non-null      float64\n",
      " 5   neighbourhood                   10168 non-null  object \n",
      " 6   latitude                        10168 non-null  float64\n",
      " 7   longitude                       10168 non-null  float64\n",
      " 8   room_type                       10168 non-null  object \n",
      " 9   price                           6321 non-null   float64\n",
      " 10  minimum_nights                  10168 non-null  int64  \n",
      " 11  number_of_reviews               10168 non-null  int64  \n",
      " 12  last_review                     9198 non-null   object \n",
      " 13  reviews_per_month               9198 non-null   float64\n",
      " 14  calculated_host_listings_count  10168 non-null  int64  \n",
      " 15  availability_365                10168 non-null  int64  \n",
      " 16  number_of_reviews_ltm           10168 non-null  int64  \n",
      " 17  license                         10062 non-null  object \n",
      "dtypes: float64(6), int64(6), object(6)\n",
      "memory usage: 1.4+ MB\n"
     ]
    }
   ],
   "source": [
    "df.info()"
   ]
  },
  {
   "cell_type": "code",
   "execution_count": 65,
   "id": "b12ce638",
   "metadata": {},
   "outputs": [
    {
     "data": {
      "text/plain": [
       "Index(['id', 'name', 'host_id', 'host_name', 'neighbourhood_group',\n",
       "       'neighbourhood', 'latitude', 'longitude', 'room_type', 'price',\n",
       "       'minimum_nights', 'number_of_reviews', 'last_review',\n",
       "       'reviews_per_month', 'calculated_host_listings_count',\n",
       "       'availability_365', 'number_of_reviews_ltm', 'license'],\n",
       "      dtype='object')"
      ]
     },
     "execution_count": 65,
     "metadata": {},
     "output_type": "execute_result"
    }
   ],
   "source": [
    "df.columns"
   ]
  },
  {
   "cell_type": "code",
   "execution_count": 66,
   "id": "448202b7",
   "metadata": {},
   "outputs": [
    {
     "data": {
      "text/plain": [
       "id                                    0\n",
       "name                                  0\n",
       "host_id                               0\n",
       "host_name                             4\n",
       "neighbourhood_group               10168\n",
       "neighbourhood                         0\n",
       "latitude                              0\n",
       "longitude                             0\n",
       "room_type                             0\n",
       "price                              3847\n",
       "minimum_nights                        0\n",
       "number_of_reviews                     0\n",
       "last_review                         970\n",
       "reviews_per_month                   970\n",
       "calculated_host_listings_count        0\n",
       "availability_365                      0\n",
       "number_of_reviews_ltm                 0\n",
       "license                             106\n",
       "dtype: int64"
      ]
     },
     "execution_count": 66,
     "metadata": {},
     "output_type": "execute_result"
    }
   ],
   "source": [
    "df.isna().sum()"
   ]
  },
  {
   "cell_type": "code",
   "execution_count": 67,
   "id": "ac88ebcc",
   "metadata": {},
   "outputs": [],
   "source": [
    "df.drop(columns = ['id','license','neighbourhood_group','host_name'], inplace=True)"
   ]
  },
  {
   "cell_type": "code",
   "execution_count": 68,
   "id": "0e314694",
   "metadata": {},
   "outputs": [
    {
     "data": {
      "text/plain": [
       "Index(['name', 'host_id', 'neighbourhood', 'latitude', 'longitude',\n",
       "       'room_type', 'price', 'minimum_nights', 'number_of_reviews',\n",
       "       'last_review', 'reviews_per_month', 'calculated_host_listings_count',\n",
       "       'availability_365', 'number_of_reviews_ltm'],\n",
       "      dtype='object')"
      ]
     },
     "execution_count": 68,
     "metadata": {},
     "output_type": "execute_result"
    }
   ],
   "source": [
    "df.columns"
   ]
  },
  {
   "cell_type": "code",
   "execution_count": 69,
   "id": "f8e1e0ba",
   "metadata": {},
   "outputs": [],
   "source": [
    "#adding median value in price column\n",
    "df['price'].fillna(df['price'].median(), inplace=True)"
   ]
  },
  {
   "cell_type": "code",
   "execution_count": 70,
   "id": "9a8ef811",
   "metadata": {},
   "outputs": [
    {
     "data": {
      "text/plain": [
       "np.int64(0)"
      ]
     },
     "execution_count": 70,
     "metadata": {},
     "output_type": "execute_result"
    }
   ],
   "source": [
    "df['price'].isna().sum()"
   ]
  },
  {
   "cell_type": "code",
   "execution_count": 71,
   "id": "dae5c108",
   "metadata": {},
   "outputs": [
    {
     "data": {
      "text/plain": [
       "reviews_per_month\n",
       "0.09     166\n",
       "0.18     162\n",
       "0.15     151\n",
       "0.11     148\n",
       "0.13     148\n",
       "        ... \n",
       "16.02      1\n",
       "10.17      1\n",
       "13.06      1\n",
       "15.80      1\n",
       "8.41       1\n",
       "Name: count, Length: 672, dtype: int64"
      ]
     },
     "execution_count": 71,
     "metadata": {},
     "output_type": "execute_result"
    }
   ],
   "source": [
    "df['reviews_per_month'].value_counts()"
   ]
  },
  {
   "cell_type": "code",
   "execution_count": 72,
   "id": "b1c03f2b",
   "metadata": {},
   "outputs": [],
   "source": [
    "#fill reviews per month with 0 \n",
    "df['reviews_per_month'].fillna(0,inplace = True)"
   ]
  },
  {
   "cell_type": "code",
   "execution_count": 73,
   "id": "10ba88aa",
   "metadata": {},
   "outputs": [
    {
     "data": {
      "text/plain": [
       "np.int64(0)"
      ]
     },
     "execution_count": 73,
     "metadata": {},
     "output_type": "execute_result"
    }
   ],
   "source": [
    "df['reviews_per_month'].isna().sum()"
   ]
  },
  {
   "cell_type": "code",
   "execution_count": 74,
   "id": "69f70207",
   "metadata": {},
   "outputs": [],
   "source": [
    "\n",
    "df['last_review'] = pd.to_datetime(df['last_review'], errors='coerce')"
   ]
  },
  {
   "cell_type": "code",
   "execution_count": 75,
   "id": "56de2667",
   "metadata": {},
   "outputs": [
    {
     "name": "stdout",
     "output_type": "stream",
     "text": [
      "<class 'pandas.core.frame.DataFrame'>\n",
      "RangeIndex: 10168 entries, 0 to 10167\n",
      "Data columns (total 14 columns):\n",
      " #   Column                          Non-Null Count  Dtype         \n",
      "---  ------                          --------------  -----         \n",
      " 0   name                            10168 non-null  object        \n",
      " 1   host_id                         10168 non-null  int64         \n",
      " 2   neighbourhood                   10168 non-null  object        \n",
      " 3   latitude                        10168 non-null  float64       \n",
      " 4   longitude                       10168 non-null  float64       \n",
      " 5   room_type                       10168 non-null  object        \n",
      " 6   price                           10168 non-null  float64       \n",
      " 7   minimum_nights                  10168 non-null  int64         \n",
      " 8   number_of_reviews               10168 non-null  int64         \n",
      " 9   last_review                     9198 non-null   datetime64[ns]\n",
      " 10  reviews_per_month               10168 non-null  float64       \n",
      " 11  calculated_host_listings_count  10168 non-null  int64         \n",
      " 12  availability_365                10168 non-null  int64         \n",
      " 13  number_of_reviews_ltm           10168 non-null  int64         \n",
      "dtypes: datetime64[ns](1), float64(4), int64(6), object(3)\n",
      "memory usage: 1.1+ MB\n"
     ]
    }
   ],
   "source": [
    "df.info()"
   ]
  },
  {
   "cell_type": "markdown",
   "id": "455ca1df",
   "metadata": {},
   "source": [
    "Feature Engineering"
   ]
  },
  {
   "cell_type": "code",
   "execution_count": 76,
   "id": "70c4b5c3",
   "metadata": {},
   "outputs": [],
   "source": [
    "#days_since_last_year nikaleako\n",
    "df['days_since_last_review'] = (pd.to_datetime('today') - df['last_review']).dt.days\n",
    "df['days_since_last_review'] = df['days_since_last_review'].fillna(df['days_since_last_review'].max())"
   ]
  },
  {
   "cell_type": "code",
   "execution_count": 77,
   "id": "1aa1c4a5",
   "metadata": {},
   "outputs": [
    {
     "data": {
      "text/plain": [
       "0          20.0\n",
       "1          15.0\n",
       "2          17.0\n",
       "3        1046.0\n",
       "4          33.0\n",
       "          ...  \n",
       "10163    4196.0\n",
       "10164    4196.0\n",
       "10165    4196.0\n",
       "10166    4196.0\n",
       "10167    4196.0\n",
       "Name: days_since_last_review, Length: 10168, dtype: float64"
      ]
     },
     "execution_count": 77,
     "metadata": {},
     "output_type": "execute_result"
    }
   ],
   "source": [
    "df['days_since_last_review']"
   ]
  },
  {
   "cell_type": "code",
   "execution_count": 78,
   "id": "614657f3",
   "metadata": {},
   "outputs": [],
   "source": [
    "#binning\n",
    "df['price_bin'] =pd.cut(df['price'],bins =[0,50,100,200,500, np.inf], labels =['$0-50','$51-100','$101 -200','$201-500','$500+'])"
   ]
  },
  {
   "cell_type": "code",
   "execution_count": 79,
   "id": "f3aaad5e",
   "metadata": {},
   "outputs": [
    {
     "data": {
      "text/plain": [
       "0        $101 -200\n",
       "1          $51-100\n",
       "2          $51-100\n",
       "3         $201-500\n",
       "4        $101 -200\n",
       "           ...    \n",
       "10163     $201-500\n",
       "10164     $201-500\n",
       "10165     $201-500\n",
       "10166     $201-500\n",
       "10167    $101 -200\n",
       "Name: price_bin, Length: 10168, dtype: category\n",
       "Categories (5, object): ['$0-50' < '$51-100' < '$101 -200' < '$201-500' < '$500+']"
      ]
     },
     "execution_count": 79,
     "metadata": {},
     "output_type": "execute_result"
    }
   ],
   "source": [
    "df['price_bin']"
   ]
  },
  {
   "cell_type": "code",
   "execution_count": 80,
   "id": "78ba7c92",
   "metadata": {},
   "outputs": [],
   "source": [
    "df['price_per_day'] = df['price'] / (df['availability_365'] + 1)"
   ]
  },
  {
   "cell_type": "code",
   "execution_count": 81,
   "id": "f0674ead",
   "metadata": {},
   "outputs": [
    {
     "data": {
      "text/plain": [
       "0          2.444444\n",
       "1          0.595420\n",
       "2          0.573770\n",
       "3        223.000000\n",
       "4          1.791045\n",
       "            ...    \n",
       "10163     11.217391\n",
       "10164      1.051051\n",
       "10165      0.749288\n",
       "10166      0.833333\n",
       "10167      2.069444\n",
       "Name: price_per_day, Length: 10168, dtype: float64"
      ]
     },
     "execution_count": 81,
     "metadata": {},
     "output_type": "execute_result"
    }
   ],
   "source": [
    "df['price_per_day']"
   ]
  },
  {
   "cell_type": "code",
   "execution_count": 82,
   "id": "9b4bcbdc",
   "metadata": {},
   "outputs": [],
   "source": [
    "#90th percentile for premium listings\n",
    "df['is_premium'] = df['price'] > df['price'].quantile(0.90)"
   ]
  },
  {
   "cell_type": "code",
   "execution_count": 83,
   "id": "3798217a",
   "metadata": {},
   "outputs": [
    {
     "data": {
      "text/plain": [
       "is_premium\n",
       "False    9155\n",
       "True     1013\n",
       "Name: count, dtype: int64"
      ]
     },
     "execution_count": 83,
     "metadata": {},
     "output_type": "execute_result"
    }
   ],
   "source": [
    "df['is_premium'].value_counts()"
   ]
  },
  {
   "cell_type": "code",
   "execution_count": 85,
   "id": "e8e8d613",
   "metadata": {},
   "outputs": [],
   "source": [
    "df['price_log'] = np.log1p(df['price'])"
   ]
  },
  {
   "cell_type": "code",
   "execution_count": null,
   "id": "7d501c4f",
   "metadata": {},
   "outputs": [
    {
     "data": {
      "image/png": "[encoded data removed]",
      "text/plain": [
       "<Figure size 1000x600 with 1 Axes>"
      ]
     },
     "metadata": {},
     "output_type": "display_data"
    }
   ],
   "source": [
    "#visualization of price\n",
    "plt.figure(figsize=(10, 6))\n",
    "sns.histplot(df['price'], bins=50, kde=True)\n",
    "plt.title('Distribution of Price without Transformation')\n",
    "plt.xlabel('price')    \n",
    "plt.ylabel('Frequency')\n",
    "plt.show()"
   ]
  },
  {
   "cell_type": "code",
   "execution_count": 86,
   "id": "10a4df7d",
   "metadata": {},
   "outputs": [
    {
     "data": {
      "image/png": "[encoded data removed]",
      "text/plain": [
       "<Figure size 1000x600 with 1 Axes>"
      ]
     },
     "metadata": {},
     "output_type": "display_data"
    }
   ],
   "source": [
    "#visualization of price_log\n",
    "plt.figure(figsize=(10, 6))\n",
    "sns.histplot(df['price_log'], bins=50, kde=True)\n",
    "plt.title('Distribution of Log-Transformed Price')\n",
    "plt.xlabel('Log(Price + 1)')    \n",
    "plt.ylabel('Frequency')\n",
    "plt.show()\n"
   ]
  },
  {
   "cell_type": "code",
   "execution_count": null,
   "id": "8c60aa34",
   "metadata": {},
   "outputs": [],
   "source": []
  }
 ],
 "metadata": {
  "kernelspec": {
   "display_name": ".venv",
   "language": "python",
   "name": "python3"
  },
  "language_info": {
   "codemirror_mode": {
    "name": "ipython",
    "version": 3
   },
   "file_extension": ".py",
   "mimetype": "text/x-python",
   "name": "python",
   "nbconvert_exporter": "python",
   "pygments_lexer": "ipython3",
   "version": "3.13.1"
  }
 },
 "nbformat": 4,
 "nbformat_minor": 5
}
